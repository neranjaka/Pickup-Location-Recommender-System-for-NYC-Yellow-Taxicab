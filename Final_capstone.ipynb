{
 "cells": [
  {
   "cell_type": "code",
   "execution_count": 1,
   "id": "89675cf8",
   "metadata": {},
   "outputs": [],
   "source": [
    "import numpy as np\n",
    "import pandas as pd\n",
    "import seaborn as sns\n",
    "import matplotlib.pyplot as plt"
   ]
  },
  {
   "cell_type": "code",
   "execution_count": 2,
   "id": "57ebd9d1",
   "metadata": {},
   "outputs": [],
   "source": [
    "import warnings\n",
    "warnings.filterwarnings('ignore')"
   ]
  },
  {
   "cell_type": "code",
   "execution_count": 3,
   "id": "f452b427",
   "metadata": {},
   "outputs": [],
   "source": [
    "prime_df = pd.read_csv('yellow_tripdata_2019-01.csv')"
   ]
  },
  {
   "cell_type": "code",
   "execution_count": 4,
   "id": "0a4fbc42",
   "metadata": {},
   "outputs": [],
   "source": [
    "zones_df = pd.read_csv('zone_lookup.csv', index_col = 'LocationID')"
   ]
  },
  {
   "cell_type": "code",
   "execution_count": 5,
   "id": "044d9134",
   "metadata": {},
   "outputs": [
    {
     "data": {
      "text/html": [
       "<div>\n",
       "<style scoped>\n",
       "    .dataframe tbody tr th:only-of-type {\n",
       "        vertical-align: middle;\n",
       "    }\n",
       "\n",
       "    .dataframe tbody tr th {\n",
       "        vertical-align: top;\n",
       "    }\n",
       "\n",
       "    .dataframe thead th {\n",
       "        text-align: right;\n",
       "    }\n",
       "</style>\n",
       "<table border=\"1\" class=\"dataframe\">\n",
       "  <thead>\n",
       "    <tr style=\"text-align: right;\">\n",
       "      <th></th>\n",
       "      <th>Borough</th>\n",
       "      <th>Zone</th>\n",
       "      <th>service_zone</th>\n",
       "    </tr>\n",
       "    <tr>\n",
       "      <th>LocationID</th>\n",
       "      <th></th>\n",
       "      <th></th>\n",
       "      <th></th>\n",
       "    </tr>\n",
       "  </thead>\n",
       "  <tbody>\n",
       "    <tr>\n",
       "      <th>1</th>\n",
       "      <td>EWR</td>\n",
       "      <td>Newark Airport</td>\n",
       "      <td>EWR</td>\n",
       "    </tr>\n",
       "    <tr>\n",
       "      <th>2</th>\n",
       "      <td>Queens</td>\n",
       "      <td>Jamaica Bay</td>\n",
       "      <td>Boro Zone</td>\n",
       "    </tr>\n",
       "    <tr>\n",
       "      <th>3</th>\n",
       "      <td>Bronx</td>\n",
       "      <td>Allerton/Pelham Gardens</td>\n",
       "      <td>Boro Zone</td>\n",
       "    </tr>\n",
       "    <tr>\n",
       "      <th>4</th>\n",
       "      <td>Manhattan</td>\n",
       "      <td>Alphabet City</td>\n",
       "      <td>Yellow Zone</td>\n",
       "    </tr>\n",
       "    <tr>\n",
       "      <th>5</th>\n",
       "      <td>Staten Island</td>\n",
       "      <td>Arden Heights</td>\n",
       "      <td>Boro Zone</td>\n",
       "    </tr>\n",
       "  </tbody>\n",
       "</table>\n",
       "</div>"
      ],
      "text/plain": [
       "                  Borough                     Zone service_zone\n",
       "LocationID                                                     \n",
       "1                     EWR           Newark Airport          EWR\n",
       "2                  Queens              Jamaica Bay    Boro Zone\n",
       "3                   Bronx  Allerton/Pelham Gardens    Boro Zone\n",
       "4               Manhattan            Alphabet City  Yellow Zone\n",
       "5           Staten Island            Arden Heights    Boro Zone"
      ]
     },
     "execution_count": 5,
     "metadata": {},
     "output_type": "execute_result"
    }
   ],
   "source": [
    "zones_df.head()"
   ]
  },
  {
   "cell_type": "code",
   "execution_count": 6,
   "id": "85b110eb",
   "metadata": {},
   "outputs": [
    {
     "data": {
      "text/plain": [
       "265"
      ]
     },
     "execution_count": 6,
     "metadata": {},
     "output_type": "execute_result"
    }
   ],
   "source": [
    "zones_df.index.size"
   ]
  },
  {
   "cell_type": "code",
   "execution_count": 7,
   "id": "76fa0fad",
   "metadata": {},
   "outputs": [
    {
     "data": {
      "text/plain": [
       "array([  1,   2,   3,   4,   5,   6,   7,   8,   9,  10,  11,  12,  13,\n",
       "        14,  15,  16,  17,  18,  19,  20,  21,  22,  23,  24,  25,  26,\n",
       "        27,  28,  29,  30,  31,  32,  33,  34,  35,  36,  37,  38,  39,\n",
       "        40,  41,  42,  43,  44,  45,  46,  47,  48,  49,  50,  51,  52,\n",
       "        53,  54,  55,  56,  57,  58,  59,  60,  61,  62,  63,  64,  65,\n",
       "        66,  67,  68,  69,  70,  71,  72,  73,  74,  75,  76,  77,  78,\n",
       "        79,  80,  81,  82,  83,  84,  85,  86,  87,  88,  89,  90,  91,\n",
       "        92,  93,  94,  95,  96,  97,  98,  99, 100, 101, 102, 103, 104,\n",
       "       105, 106, 107, 108, 109, 110, 111, 112, 113, 114, 115, 116, 117,\n",
       "       118, 119, 120, 121, 122, 123, 124, 125, 126, 127, 128, 129, 130,\n",
       "       131, 132, 133, 134, 135, 136, 137, 138, 139, 140, 141, 142, 143,\n",
       "       144, 145, 146, 147, 148, 149, 150, 151, 152, 153, 154, 155, 156,\n",
       "       157, 158, 159, 160, 161, 162, 163, 164, 165, 166, 167, 168, 169,\n",
       "       170, 171, 172, 173, 174, 175, 176, 177, 178, 179, 180, 181, 182,\n",
       "       183, 184, 185, 186, 187, 188, 189, 190, 191, 192, 193, 194, 195,\n",
       "       196, 197, 198, 199, 200, 201, 202, 203, 204, 205, 206, 207, 208,\n",
       "       209, 210, 211, 212, 213, 214, 215, 216, 217, 218, 219, 220, 221,\n",
       "       222, 223, 224, 225, 226, 227, 228, 229, 230, 231, 232, 233, 234,\n",
       "       235, 236, 237, 238, 239, 240, 241, 242, 243, 244, 245, 246, 247,\n",
       "       248, 249, 250, 251, 252, 253, 254, 255, 256, 257, 258, 259, 260,\n",
       "       261, 262, 263, 264, 265], dtype=int64)"
      ]
     },
     "execution_count": 7,
     "metadata": {},
     "output_type": "execute_result"
    }
   ],
   "source": [
    "zones_df.index.values"
   ]
  },
  {
   "cell_type": "code",
   "execution_count": 8,
   "id": "e3ade6d6",
   "metadata": {},
   "outputs": [
    {
     "data": {
      "text/html": [
       "<div>\n",
       "<style scoped>\n",
       "    .dataframe tbody tr th:only-of-type {\n",
       "        vertical-align: middle;\n",
       "    }\n",
       "\n",
       "    .dataframe tbody tr th {\n",
       "        vertical-align: top;\n",
       "    }\n",
       "\n",
       "    .dataframe thead th {\n",
       "        text-align: right;\n",
       "    }\n",
       "</style>\n",
       "<table border=\"1\" class=\"dataframe\">\n",
       "  <thead>\n",
       "    <tr style=\"text-align: right;\">\n",
       "      <th></th>\n",
       "      <th>Borough</th>\n",
       "      <th>Zone</th>\n",
       "      <th>service_zone</th>\n",
       "    </tr>\n",
       "    <tr>\n",
       "      <th>LocationID</th>\n",
       "      <th></th>\n",
       "      <th></th>\n",
       "      <th></th>\n",
       "    </tr>\n",
       "  </thead>\n",
       "  <tbody>\n",
       "    <tr>\n",
       "      <th>1</th>\n",
       "      <td>EWR</td>\n",
       "      <td>Newark Airport</td>\n",
       "      <td>EWR</td>\n",
       "    </tr>\n",
       "  </tbody>\n",
       "</table>\n",
       "</div>"
      ],
      "text/plain": [
       "           Borough            Zone service_zone\n",
       "LocationID                                     \n",
       "1              EWR  Newark Airport          EWR"
      ]
     },
     "execution_count": 8,
     "metadata": {},
     "output_type": "execute_result"
    }
   ],
   "source": [
    "zones_df.loc[[1]]"
   ]
  },
  {
   "cell_type": "code",
   "execution_count": 9,
   "id": "e88ac2db",
   "metadata": {},
   "outputs": [
    {
     "data": {
      "text/html": [
       "<div>\n",
       "<style scoped>\n",
       "    .dataframe tbody tr th:only-of-type {\n",
       "        vertical-align: middle;\n",
       "    }\n",
       "\n",
       "    .dataframe tbody tr th {\n",
       "        vertical-align: top;\n",
       "    }\n",
       "\n",
       "    .dataframe thead th {\n",
       "        text-align: right;\n",
       "    }\n",
       "</style>\n",
       "<table border=\"1\" class=\"dataframe\">\n",
       "  <thead>\n",
       "    <tr style=\"text-align: right;\">\n",
       "      <th></th>\n",
       "      <th>VendorID</th>\n",
       "      <th>tpep_pickup_datetime</th>\n",
       "      <th>tpep_dropoff_datetime</th>\n",
       "      <th>passenger_count</th>\n",
       "      <th>trip_distance</th>\n",
       "      <th>RatecodeID</th>\n",
       "      <th>store_and_fwd_flag</th>\n",
       "      <th>PULocationID</th>\n",
       "      <th>DOLocationID</th>\n",
       "      <th>payment_type</th>\n",
       "      <th>fare_amount</th>\n",
       "      <th>extra</th>\n",
       "      <th>mta_tax</th>\n",
       "      <th>tip_amount</th>\n",
       "      <th>tolls_amount</th>\n",
       "      <th>improvement_surcharge</th>\n",
       "      <th>total_amount</th>\n",
       "      <th>congestion_surcharge</th>\n",
       "    </tr>\n",
       "  </thead>\n",
       "  <tbody>\n",
       "    <tr>\n",
       "      <th>0</th>\n",
       "      <td>1</td>\n",
       "      <td>2019-01-01 00:46:40</td>\n",
       "      <td>2019-01-01 00:53:20</td>\n",
       "      <td>1</td>\n",
       "      <td>1.5</td>\n",
       "      <td>1</td>\n",
       "      <td>N</td>\n",
       "      <td>151</td>\n",
       "      <td>239</td>\n",
       "      <td>1</td>\n",
       "      <td>7.0</td>\n",
       "      <td>0.5</td>\n",
       "      <td>0.5</td>\n",
       "      <td>1.65</td>\n",
       "      <td>0.0</td>\n",
       "      <td>0.3</td>\n",
       "      <td>9.95</td>\n",
       "      <td>NaN</td>\n",
       "    </tr>\n",
       "    <tr>\n",
       "      <th>1</th>\n",
       "      <td>1</td>\n",
       "      <td>2019-01-01 00:59:47</td>\n",
       "      <td>2019-01-01 01:18:59</td>\n",
       "      <td>1</td>\n",
       "      <td>2.6</td>\n",
       "      <td>1</td>\n",
       "      <td>N</td>\n",
       "      <td>239</td>\n",
       "      <td>246</td>\n",
       "      <td>1</td>\n",
       "      <td>14.0</td>\n",
       "      <td>0.5</td>\n",
       "      <td>0.5</td>\n",
       "      <td>1.00</td>\n",
       "      <td>0.0</td>\n",
       "      <td>0.3</td>\n",
       "      <td>16.30</td>\n",
       "      <td>NaN</td>\n",
       "    </tr>\n",
       "    <tr>\n",
       "      <th>2</th>\n",
       "      <td>2</td>\n",
       "      <td>2018-12-21 13:48:30</td>\n",
       "      <td>2018-12-21 13:52:40</td>\n",
       "      <td>3</td>\n",
       "      <td>0.0</td>\n",
       "      <td>1</td>\n",
       "      <td>N</td>\n",
       "      <td>236</td>\n",
       "      <td>236</td>\n",
       "      <td>1</td>\n",
       "      <td>4.5</td>\n",
       "      <td>0.5</td>\n",
       "      <td>0.5</td>\n",
       "      <td>0.00</td>\n",
       "      <td>0.0</td>\n",
       "      <td>0.3</td>\n",
       "      <td>5.80</td>\n",
       "      <td>NaN</td>\n",
       "    </tr>\n",
       "    <tr>\n",
       "      <th>3</th>\n",
       "      <td>2</td>\n",
       "      <td>2018-11-28 15:52:25</td>\n",
       "      <td>2018-11-28 15:55:45</td>\n",
       "      <td>5</td>\n",
       "      <td>0.0</td>\n",
       "      <td>1</td>\n",
       "      <td>N</td>\n",
       "      <td>193</td>\n",
       "      <td>193</td>\n",
       "      <td>2</td>\n",
       "      <td>3.5</td>\n",
       "      <td>0.5</td>\n",
       "      <td>0.5</td>\n",
       "      <td>0.00</td>\n",
       "      <td>0.0</td>\n",
       "      <td>0.3</td>\n",
       "      <td>7.55</td>\n",
       "      <td>NaN</td>\n",
       "    </tr>\n",
       "    <tr>\n",
       "      <th>4</th>\n",
       "      <td>2</td>\n",
       "      <td>2018-11-28 15:56:57</td>\n",
       "      <td>2018-11-28 15:58:33</td>\n",
       "      <td>5</td>\n",
       "      <td>0.0</td>\n",
       "      <td>2</td>\n",
       "      <td>N</td>\n",
       "      <td>193</td>\n",
       "      <td>193</td>\n",
       "      <td>2</td>\n",
       "      <td>52.0</td>\n",
       "      <td>0.0</td>\n",
       "      <td>0.5</td>\n",
       "      <td>0.00</td>\n",
       "      <td>0.0</td>\n",
       "      <td>0.3</td>\n",
       "      <td>55.55</td>\n",
       "      <td>NaN</td>\n",
       "    </tr>\n",
       "  </tbody>\n",
       "</table>\n",
       "</div>"
      ],
      "text/plain": [
       "   VendorID tpep_pickup_datetime tpep_dropoff_datetime  passenger_count  \\\n",
       "0         1  2019-01-01 00:46:40   2019-01-01 00:53:20                1   \n",
       "1         1  2019-01-01 00:59:47   2019-01-01 01:18:59                1   \n",
       "2         2  2018-12-21 13:48:30   2018-12-21 13:52:40                3   \n",
       "3         2  2018-11-28 15:52:25   2018-11-28 15:55:45                5   \n",
       "4         2  2018-11-28 15:56:57   2018-11-28 15:58:33                5   \n",
       "\n",
       "   trip_distance  RatecodeID store_and_fwd_flag  PULocationID  DOLocationID  \\\n",
       "0            1.5           1                  N           151           239   \n",
       "1            2.6           1                  N           239           246   \n",
       "2            0.0           1                  N           236           236   \n",
       "3            0.0           1                  N           193           193   \n",
       "4            0.0           2                  N           193           193   \n",
       "\n",
       "   payment_type  fare_amount  extra  mta_tax  tip_amount  tolls_amount  \\\n",
       "0             1          7.0    0.5      0.5        1.65           0.0   \n",
       "1             1         14.0    0.5      0.5        1.00           0.0   \n",
       "2             1          4.5    0.5      0.5        0.00           0.0   \n",
       "3             2          3.5    0.5      0.5        0.00           0.0   \n",
       "4             2         52.0    0.0      0.5        0.00           0.0   \n",
       "\n",
       "   improvement_surcharge  total_amount  congestion_surcharge  \n",
       "0                    0.3          9.95                   NaN  \n",
       "1                    0.3         16.30                   NaN  \n",
       "2                    0.3          5.80                   NaN  \n",
       "3                    0.3          7.55                   NaN  \n",
       "4                    0.3         55.55                   NaN  "
      ]
     },
     "execution_count": 9,
     "metadata": {},
     "output_type": "execute_result"
    }
   ],
   "source": [
    "prime_df.head()"
   ]
  },
  {
   "cell_type": "markdown",
   "id": "f58f6f5e",
   "metadata": {},
   "source": [
    "### Removing not important columns"
   ]
  },
  {
   "cell_type": "code",
   "execution_count": 10,
   "id": "c9480697",
   "metadata": {},
   "outputs": [],
   "source": [
    "prime_df.drop(columns = ['VendorID','RatecodeID','store_and_fwd_flag','payment_type','extra','mta_tax','tolls_amount','improvement_surcharge','total_amount','congestion_surcharge'], inplace = True)"
   ]
  },
  {
   "cell_type": "code",
   "execution_count": 11,
   "id": "e1b36dfd",
   "metadata": {},
   "outputs": [
    {
     "data": {
      "text/html": [
       "<div>\n",
       "<style scoped>\n",
       "    .dataframe tbody tr th:only-of-type {\n",
       "        vertical-align: middle;\n",
       "    }\n",
       "\n",
       "    .dataframe tbody tr th {\n",
       "        vertical-align: top;\n",
       "    }\n",
       "\n",
       "    .dataframe thead th {\n",
       "        text-align: right;\n",
       "    }\n",
       "</style>\n",
       "<table border=\"1\" class=\"dataframe\">\n",
       "  <thead>\n",
       "    <tr style=\"text-align: right;\">\n",
       "      <th></th>\n",
       "      <th>tpep_pickup_datetime</th>\n",
       "      <th>tpep_dropoff_datetime</th>\n",
       "      <th>passenger_count</th>\n",
       "      <th>trip_distance</th>\n",
       "      <th>PULocationID</th>\n",
       "      <th>DOLocationID</th>\n",
       "      <th>fare_amount</th>\n",
       "      <th>tip_amount</th>\n",
       "    </tr>\n",
       "  </thead>\n",
       "  <tbody>\n",
       "    <tr>\n",
       "      <th>0</th>\n",
       "      <td>2019-01-01 00:46:40</td>\n",
       "      <td>2019-01-01 00:53:20</td>\n",
       "      <td>1</td>\n",
       "      <td>1.5</td>\n",
       "      <td>151</td>\n",
       "      <td>239</td>\n",
       "      <td>7.0</td>\n",
       "      <td>1.65</td>\n",
       "    </tr>\n",
       "    <tr>\n",
       "      <th>1</th>\n",
       "      <td>2019-01-01 00:59:47</td>\n",
       "      <td>2019-01-01 01:18:59</td>\n",
       "      <td>1</td>\n",
       "      <td>2.6</td>\n",
       "      <td>239</td>\n",
       "      <td>246</td>\n",
       "      <td>14.0</td>\n",
       "      <td>1.00</td>\n",
       "    </tr>\n",
       "    <tr>\n",
       "      <th>2</th>\n",
       "      <td>2018-12-21 13:48:30</td>\n",
       "      <td>2018-12-21 13:52:40</td>\n",
       "      <td>3</td>\n",
       "      <td>0.0</td>\n",
       "      <td>236</td>\n",
       "      <td>236</td>\n",
       "      <td>4.5</td>\n",
       "      <td>0.00</td>\n",
       "    </tr>\n",
       "    <tr>\n",
       "      <th>3</th>\n",
       "      <td>2018-11-28 15:52:25</td>\n",
       "      <td>2018-11-28 15:55:45</td>\n",
       "      <td>5</td>\n",
       "      <td>0.0</td>\n",
       "      <td>193</td>\n",
       "      <td>193</td>\n",
       "      <td>3.5</td>\n",
       "      <td>0.00</td>\n",
       "    </tr>\n",
       "    <tr>\n",
       "      <th>4</th>\n",
       "      <td>2018-11-28 15:56:57</td>\n",
       "      <td>2018-11-28 15:58:33</td>\n",
       "      <td>5</td>\n",
       "      <td>0.0</td>\n",
       "      <td>193</td>\n",
       "      <td>193</td>\n",
       "      <td>52.0</td>\n",
       "      <td>0.00</td>\n",
       "    </tr>\n",
       "  </tbody>\n",
       "</table>\n",
       "</div>"
      ],
      "text/plain": [
       "  tpep_pickup_datetime tpep_dropoff_datetime  passenger_count  trip_distance  \\\n",
       "0  2019-01-01 00:46:40   2019-01-01 00:53:20                1            1.5   \n",
       "1  2019-01-01 00:59:47   2019-01-01 01:18:59                1            2.6   \n",
       "2  2018-12-21 13:48:30   2018-12-21 13:52:40                3            0.0   \n",
       "3  2018-11-28 15:52:25   2018-11-28 15:55:45                5            0.0   \n",
       "4  2018-11-28 15:56:57   2018-11-28 15:58:33                5            0.0   \n",
       "\n",
       "   PULocationID  DOLocationID  fare_amount  tip_amount  \n",
       "0           151           239          7.0        1.65  \n",
       "1           239           246         14.0        1.00  \n",
       "2           236           236          4.5        0.00  \n",
       "3           193           193          3.5        0.00  \n",
       "4           193           193         52.0        0.00  "
      ]
     },
     "execution_count": 11,
     "metadata": {},
     "output_type": "execute_result"
    }
   ],
   "source": [
    "prime_df.head()"
   ]
  },
  {
   "cell_type": "markdown",
   "id": "409c5abb",
   "metadata": {},
   "source": [
    "Now the dataframe 'prime_df' has only required columns"
   ]
  },
  {
   "cell_type": "code",
   "execution_count": 12,
   "id": "977341cd",
   "metadata": {},
   "outputs": [
    {
     "name": "stdout",
     "output_type": "stream",
     "text": [
      "<class 'pandas.core.frame.DataFrame'>\n",
      "RangeIndex: 7667792 entries, 0 to 7667791\n",
      "Data columns (total 8 columns):\n",
      " #   Column                 Dtype  \n",
      "---  ------                 -----  \n",
      " 0   tpep_pickup_datetime   object \n",
      " 1   tpep_dropoff_datetime  object \n",
      " 2   passenger_count        int64  \n",
      " 3   trip_distance          float64\n",
      " 4   PULocationID           int64  \n",
      " 5   DOLocationID           int64  \n",
      " 6   fare_amount            float64\n",
      " 7   tip_amount             float64\n",
      "dtypes: float64(3), int64(3), object(2)\n",
      "memory usage: 468.0+ MB\n"
     ]
    }
   ],
   "source": [
    "prime_df.info()"
   ]
  },
  {
   "cell_type": "markdown",
   "id": "1e96e6b0",
   "metadata": {},
   "source": [
    "## Changing time into datetime format"
   ]
  },
  {
   "cell_type": "code",
   "execution_count": 13,
   "id": "793297ee",
   "metadata": {},
   "outputs": [],
   "source": [
    "prime_df['pickup_time'] = pd.to_datetime(prime_df['tpep_pickup_datetime'])"
   ]
  },
  {
   "cell_type": "code",
   "execution_count": 14,
   "id": "e2584c0f",
   "metadata": {},
   "outputs": [],
   "source": [
    "prime_df['dropoff_time'] = pd.to_datetime(prime_df['tpep_dropoff_datetime'])"
   ]
  },
  {
   "cell_type": "code",
   "execution_count": 15,
   "id": "a3ffae00",
   "metadata": {},
   "outputs": [],
   "source": [
    "prime_df.drop(columns = ['tpep_pickup_datetime','tpep_dropoff_datetime'], inplace = True)"
   ]
  },
  {
   "cell_type": "code",
   "execution_count": 16,
   "id": "be3a7c8b",
   "metadata": {},
   "outputs": [
    {
     "data": {
      "text/html": [
       "<div>\n",
       "<style scoped>\n",
       "    .dataframe tbody tr th:only-of-type {\n",
       "        vertical-align: middle;\n",
       "    }\n",
       "\n",
       "    .dataframe tbody tr th {\n",
       "        vertical-align: top;\n",
       "    }\n",
       "\n",
       "    .dataframe thead th {\n",
       "        text-align: right;\n",
       "    }\n",
       "</style>\n",
       "<table border=\"1\" class=\"dataframe\">\n",
       "  <thead>\n",
       "    <tr style=\"text-align: right;\">\n",
       "      <th></th>\n",
       "      <th>passenger_count</th>\n",
       "      <th>trip_distance</th>\n",
       "      <th>PULocationID</th>\n",
       "      <th>DOLocationID</th>\n",
       "      <th>fare_amount</th>\n",
       "      <th>tip_amount</th>\n",
       "      <th>pickup_time</th>\n",
       "      <th>dropoff_time</th>\n",
       "    </tr>\n",
       "  </thead>\n",
       "  <tbody>\n",
       "    <tr>\n",
       "      <th>0</th>\n",
       "      <td>1</td>\n",
       "      <td>1.5</td>\n",
       "      <td>151</td>\n",
       "      <td>239</td>\n",
       "      <td>7.0</td>\n",
       "      <td>1.65</td>\n",
       "      <td>2019-01-01 00:46:40</td>\n",
       "      <td>2019-01-01 00:53:20</td>\n",
       "    </tr>\n",
       "    <tr>\n",
       "      <th>1</th>\n",
       "      <td>1</td>\n",
       "      <td>2.6</td>\n",
       "      <td>239</td>\n",
       "      <td>246</td>\n",
       "      <td>14.0</td>\n",
       "      <td>1.00</td>\n",
       "      <td>2019-01-01 00:59:47</td>\n",
       "      <td>2019-01-01 01:18:59</td>\n",
       "    </tr>\n",
       "    <tr>\n",
       "      <th>2</th>\n",
       "      <td>3</td>\n",
       "      <td>0.0</td>\n",
       "      <td>236</td>\n",
       "      <td>236</td>\n",
       "      <td>4.5</td>\n",
       "      <td>0.00</td>\n",
       "      <td>2018-12-21 13:48:30</td>\n",
       "      <td>2018-12-21 13:52:40</td>\n",
       "    </tr>\n",
       "    <tr>\n",
       "      <th>3</th>\n",
       "      <td>5</td>\n",
       "      <td>0.0</td>\n",
       "      <td>193</td>\n",
       "      <td>193</td>\n",
       "      <td>3.5</td>\n",
       "      <td>0.00</td>\n",
       "      <td>2018-11-28 15:52:25</td>\n",
       "      <td>2018-11-28 15:55:45</td>\n",
       "    </tr>\n",
       "    <tr>\n",
       "      <th>4</th>\n",
       "      <td>5</td>\n",
       "      <td>0.0</td>\n",
       "      <td>193</td>\n",
       "      <td>193</td>\n",
       "      <td>52.0</td>\n",
       "      <td>0.00</td>\n",
       "      <td>2018-11-28 15:56:57</td>\n",
       "      <td>2018-11-28 15:58:33</td>\n",
       "    </tr>\n",
       "  </tbody>\n",
       "</table>\n",
       "</div>"
      ],
      "text/plain": [
       "   passenger_count  trip_distance  PULocationID  DOLocationID  fare_amount  \\\n",
       "0                1            1.5           151           239          7.0   \n",
       "1                1            2.6           239           246         14.0   \n",
       "2                3            0.0           236           236          4.5   \n",
       "3                5            0.0           193           193          3.5   \n",
       "4                5            0.0           193           193         52.0   \n",
       "\n",
       "   tip_amount         pickup_time        dropoff_time  \n",
       "0        1.65 2019-01-01 00:46:40 2019-01-01 00:53:20  \n",
       "1        1.00 2019-01-01 00:59:47 2019-01-01 01:18:59  \n",
       "2        0.00 2018-12-21 13:48:30 2018-12-21 13:52:40  \n",
       "3        0.00 2018-11-28 15:52:25 2018-11-28 15:55:45  \n",
       "4        0.00 2018-11-28 15:56:57 2018-11-28 15:58:33  "
      ]
     },
     "execution_count": 16,
     "metadata": {},
     "output_type": "execute_result"
    }
   ],
   "source": [
    "prime_df.head()"
   ]
  },
  {
   "cell_type": "code",
   "execution_count": 17,
   "id": "214b3873",
   "metadata": {},
   "outputs": [
    {
     "name": "stdout",
     "output_type": "stream",
     "text": [
      "<class 'pandas.core.frame.DataFrame'>\n",
      "RangeIndex: 7667792 entries, 0 to 7667791\n",
      "Data columns (total 8 columns):\n",
      " #   Column           Dtype         \n",
      "---  ------           -----         \n",
      " 0   passenger_count  int64         \n",
      " 1   trip_distance    float64       \n",
      " 2   PULocationID     int64         \n",
      " 3   DOLocationID     int64         \n",
      " 4   fare_amount      float64       \n",
      " 5   tip_amount       float64       \n",
      " 6   pickup_time      datetime64[ns]\n",
      " 7   dropoff_time     datetime64[ns]\n",
      "dtypes: datetime64[ns](2), float64(3), int64(3)\n",
      "memory usage: 468.0 MB\n"
     ]
    }
   ],
   "source": [
    "prime_df.info()"
   ]
  },
  {
   "cell_type": "markdown",
   "id": "df0df1e7",
   "metadata": {},
   "source": [
    "## Analysis based on Pickup Hour"
   ]
  },
  {
   "cell_type": "code",
   "execution_count": 18,
   "id": "8eabca97",
   "metadata": {},
   "outputs": [],
   "source": [
    "PU_hour_df = prime_df.copy()"
   ]
  },
  {
   "cell_type": "code",
   "execution_count": 19,
   "id": "58619761",
   "metadata": {},
   "outputs": [],
   "source": [
    "from datetime import datetime as dt"
   ]
  },
  {
   "cell_type": "code",
   "execution_count": 20,
   "id": "86188f05",
   "metadata": {},
   "outputs": [],
   "source": [
    "PU_hour_df['PU_hour'] = PU_hour_df['pickup_time'].dt.hour"
   ]
  },
  {
   "cell_type": "code",
   "execution_count": 21,
   "id": "bd6cd07c",
   "metadata": {},
   "outputs": [
    {
     "data": {
      "text/html": [
       "<div>\n",
       "<style scoped>\n",
       "    .dataframe tbody tr th:only-of-type {\n",
       "        vertical-align: middle;\n",
       "    }\n",
       "\n",
       "    .dataframe tbody tr th {\n",
       "        vertical-align: top;\n",
       "    }\n",
       "\n",
       "    .dataframe thead th {\n",
       "        text-align: right;\n",
       "    }\n",
       "</style>\n",
       "<table border=\"1\" class=\"dataframe\">\n",
       "  <thead>\n",
       "    <tr style=\"text-align: right;\">\n",
       "      <th></th>\n",
       "      <th>passenger_count</th>\n",
       "      <th>trip_distance</th>\n",
       "      <th>PULocationID</th>\n",
       "      <th>DOLocationID</th>\n",
       "      <th>fare_amount</th>\n",
       "      <th>tip_amount</th>\n",
       "      <th>pickup_time</th>\n",
       "      <th>dropoff_time</th>\n",
       "      <th>PU_hour</th>\n",
       "    </tr>\n",
       "  </thead>\n",
       "  <tbody>\n",
       "    <tr>\n",
       "      <th>0</th>\n",
       "      <td>1</td>\n",
       "      <td>1.5</td>\n",
       "      <td>151</td>\n",
       "      <td>239</td>\n",
       "      <td>7.0</td>\n",
       "      <td>1.65</td>\n",
       "      <td>2019-01-01 00:46:40</td>\n",
       "      <td>2019-01-01 00:53:20</td>\n",
       "      <td>0</td>\n",
       "    </tr>\n",
       "    <tr>\n",
       "      <th>1</th>\n",
       "      <td>1</td>\n",
       "      <td>2.6</td>\n",
       "      <td>239</td>\n",
       "      <td>246</td>\n",
       "      <td>14.0</td>\n",
       "      <td>1.00</td>\n",
       "      <td>2019-01-01 00:59:47</td>\n",
       "      <td>2019-01-01 01:18:59</td>\n",
       "      <td>0</td>\n",
       "    </tr>\n",
       "    <tr>\n",
       "      <th>2</th>\n",
       "      <td>3</td>\n",
       "      <td>0.0</td>\n",
       "      <td>236</td>\n",
       "      <td>236</td>\n",
       "      <td>4.5</td>\n",
       "      <td>0.00</td>\n",
       "      <td>2018-12-21 13:48:30</td>\n",
       "      <td>2018-12-21 13:52:40</td>\n",
       "      <td>13</td>\n",
       "    </tr>\n",
       "    <tr>\n",
       "      <th>3</th>\n",
       "      <td>5</td>\n",
       "      <td>0.0</td>\n",
       "      <td>193</td>\n",
       "      <td>193</td>\n",
       "      <td>3.5</td>\n",
       "      <td>0.00</td>\n",
       "      <td>2018-11-28 15:52:25</td>\n",
       "      <td>2018-11-28 15:55:45</td>\n",
       "      <td>15</td>\n",
       "    </tr>\n",
       "    <tr>\n",
       "      <th>4</th>\n",
       "      <td>5</td>\n",
       "      <td>0.0</td>\n",
       "      <td>193</td>\n",
       "      <td>193</td>\n",
       "      <td>52.0</td>\n",
       "      <td>0.00</td>\n",
       "      <td>2018-11-28 15:56:57</td>\n",
       "      <td>2018-11-28 15:58:33</td>\n",
       "      <td>15</td>\n",
       "    </tr>\n",
       "  </tbody>\n",
       "</table>\n",
       "</div>"
      ],
      "text/plain": [
       "   passenger_count  trip_distance  PULocationID  DOLocationID  fare_amount  \\\n",
       "0                1            1.5           151           239          7.0   \n",
       "1                1            2.6           239           246         14.0   \n",
       "2                3            0.0           236           236          4.5   \n",
       "3                5            0.0           193           193          3.5   \n",
       "4                5            0.0           193           193         52.0   \n",
       "\n",
       "   tip_amount         pickup_time        dropoff_time  PU_hour  \n",
       "0        1.65 2019-01-01 00:46:40 2019-01-01 00:53:20        0  \n",
       "1        1.00 2019-01-01 00:59:47 2019-01-01 01:18:59        0  \n",
       "2        0.00 2018-12-21 13:48:30 2018-12-21 13:52:40       13  \n",
       "3        0.00 2018-11-28 15:52:25 2018-11-28 15:55:45       15  \n",
       "4        0.00 2018-11-28 15:56:57 2018-11-28 15:58:33       15  "
      ]
     },
     "execution_count": 21,
     "metadata": {},
     "output_type": "execute_result"
    }
   ],
   "source": [
    "PU_hour_df.head()"
   ]
  },
  {
   "cell_type": "markdown",
   "id": "dec92b3f",
   "metadata": {},
   "source": [
    "Calculate the drivers pay as the sum of the fare_amount and the tip_amount."
   ]
  },
  {
   "cell_type": "code",
   "execution_count": 22,
   "id": "d71e3a41",
   "metadata": {},
   "outputs": [],
   "source": [
    "PU_hour_df['Pay'] = PU_hour_df['fare_amount']+PU_hour_df['tip_amount']"
   ]
  },
  {
   "cell_type": "code",
   "execution_count": 23,
   "id": "b3055a40",
   "metadata": {},
   "outputs": [],
   "source": [
    "PU_hour_df.drop(columns = ['fare_amount','tip_amount'], inplace = True)"
   ]
  },
  {
   "cell_type": "code",
   "execution_count": 24,
   "id": "4c3244da",
   "metadata": {},
   "outputs": [],
   "source": [
    "PU_hour_df.drop(columns = ['passenger_count','DOLocationID'], inplace = True)"
   ]
  },
  {
   "cell_type": "markdown",
   "id": "ead111fc",
   "metadata": {},
   "source": [
    "Calculate the trip time in and then convert it to seconds."
   ]
  },
  {
   "cell_type": "code",
   "execution_count": 25,
   "id": "eed9bb98",
   "metadata": {},
   "outputs": [],
   "source": [
    "PU_hour_df['trip_time'] = PU_hour_df['dropoff_time'] - PU_hour_df['pickup_time']"
   ]
  },
  {
   "cell_type": "code",
   "execution_count": 26,
   "id": "45d1f1ae",
   "metadata": {},
   "outputs": [],
   "source": [
    "PU_hour_df['trip_time'] = PU_hour_df['trip_time'].dt.total_seconds()"
   ]
  },
  {
   "cell_type": "code",
   "execution_count": 27,
   "id": "bcaf89a0",
   "metadata": {},
   "outputs": [
    {
     "data": {
      "text/html": [
       "<div>\n",
       "<style scoped>\n",
       "    .dataframe tbody tr th:only-of-type {\n",
       "        vertical-align: middle;\n",
       "    }\n",
       "\n",
       "    .dataframe tbody tr th {\n",
       "        vertical-align: top;\n",
       "    }\n",
       "\n",
       "    .dataframe thead th {\n",
       "        text-align: right;\n",
       "    }\n",
       "</style>\n",
       "<table border=\"1\" class=\"dataframe\">\n",
       "  <thead>\n",
       "    <tr style=\"text-align: right;\">\n",
       "      <th></th>\n",
       "      <th>trip_distance</th>\n",
       "      <th>PULocationID</th>\n",
       "      <th>pickup_time</th>\n",
       "      <th>dropoff_time</th>\n",
       "      <th>PU_hour</th>\n",
       "      <th>Pay</th>\n",
       "      <th>trip_time</th>\n",
       "    </tr>\n",
       "  </thead>\n",
       "  <tbody>\n",
       "    <tr>\n",
       "      <th>0</th>\n",
       "      <td>1.5</td>\n",
       "      <td>151</td>\n",
       "      <td>2019-01-01 00:46:40</td>\n",
       "      <td>2019-01-01 00:53:20</td>\n",
       "      <td>0</td>\n",
       "      <td>8.65</td>\n",
       "      <td>400.0</td>\n",
       "    </tr>\n",
       "    <tr>\n",
       "      <th>1</th>\n",
       "      <td>2.6</td>\n",
       "      <td>239</td>\n",
       "      <td>2019-01-01 00:59:47</td>\n",
       "      <td>2019-01-01 01:18:59</td>\n",
       "      <td>0</td>\n",
       "      <td>15.00</td>\n",
       "      <td>1152.0</td>\n",
       "    </tr>\n",
       "    <tr>\n",
       "      <th>2</th>\n",
       "      <td>0.0</td>\n",
       "      <td>236</td>\n",
       "      <td>2018-12-21 13:48:30</td>\n",
       "      <td>2018-12-21 13:52:40</td>\n",
       "      <td>13</td>\n",
       "      <td>4.50</td>\n",
       "      <td>250.0</td>\n",
       "    </tr>\n",
       "    <tr>\n",
       "      <th>3</th>\n",
       "      <td>0.0</td>\n",
       "      <td>193</td>\n",
       "      <td>2018-11-28 15:52:25</td>\n",
       "      <td>2018-11-28 15:55:45</td>\n",
       "      <td>15</td>\n",
       "      <td>3.50</td>\n",
       "      <td>200.0</td>\n",
       "    </tr>\n",
       "    <tr>\n",
       "      <th>4</th>\n",
       "      <td>0.0</td>\n",
       "      <td>193</td>\n",
       "      <td>2018-11-28 15:56:57</td>\n",
       "      <td>2018-11-28 15:58:33</td>\n",
       "      <td>15</td>\n",
       "      <td>52.00</td>\n",
       "      <td>96.0</td>\n",
       "    </tr>\n",
       "  </tbody>\n",
       "</table>\n",
       "</div>"
      ],
      "text/plain": [
       "   trip_distance  PULocationID         pickup_time        dropoff_time  \\\n",
       "0            1.5           151 2019-01-01 00:46:40 2019-01-01 00:53:20   \n",
       "1            2.6           239 2019-01-01 00:59:47 2019-01-01 01:18:59   \n",
       "2            0.0           236 2018-12-21 13:48:30 2018-12-21 13:52:40   \n",
       "3            0.0           193 2018-11-28 15:52:25 2018-11-28 15:55:45   \n",
       "4            0.0           193 2018-11-28 15:56:57 2018-11-28 15:58:33   \n",
       "\n",
       "   PU_hour    Pay  trip_time  \n",
       "0        0   8.65      400.0  \n",
       "1        0  15.00     1152.0  \n",
       "2       13   4.50      250.0  \n",
       "3       15   3.50      200.0  \n",
       "4       15  52.00       96.0  "
      ]
     },
     "execution_count": 27,
     "metadata": {},
     "output_type": "execute_result"
    }
   ],
   "source": [
    "PU_hour_df.head()"
   ]
  },
  {
   "cell_type": "code",
   "execution_count": 28,
   "id": "03574c53",
   "metadata": {},
   "outputs": [
    {
     "data": {
      "text/plain": [
       "count    7.667792e+06\n",
       "mean     9.888731e+02\n",
       "std      4.908903e+03\n",
       "min     -5.056830e+06\n",
       "25%      3.660000e+02\n",
       "50%      6.090000e+02\n",
       "75%      9.940000e+02\n",
       "max      2.618881e+06\n",
       "Name: trip_time, dtype: float64"
      ]
     },
     "execution_count": 28,
     "metadata": {},
     "output_type": "execute_result"
    }
   ],
   "source": [
    "PU_hour_df.trip_time.describe()"
   ]
  },
  {
   "cell_type": "code",
   "execution_count": 29,
   "id": "83970307",
   "metadata": {},
   "outputs": [
    {
     "data": {
      "text/plain": [
       "(7667792, 7)"
      ]
     },
     "execution_count": 29,
     "metadata": {},
     "output_type": "execute_result"
    }
   ],
   "source": [
    "PU_hour_df.shape"
   ]
  },
  {
   "cell_type": "markdown",
   "id": "a5b4f481",
   "metadata": {},
   "source": [
    "Trip time cannot be less than 0. I also dropped the trips that have 0 seconds trip time."
   ]
  },
  {
   "cell_type": "code",
   "execution_count": 30,
   "id": "cdef0df5",
   "metadata": {},
   "outputs": [],
   "source": [
    "PU_hour_filtered_df = PU_hour_df[PU_hour_df['trip_time'] > 0]"
   ]
  },
  {
   "cell_type": "code",
   "execution_count": 31,
   "id": "5905af8b",
   "metadata": {},
   "outputs": [
    {
     "data": {
      "text/plain": [
       "(7661498, 7)"
      ]
     },
     "execution_count": 31,
     "metadata": {},
     "output_type": "execute_result"
    }
   ],
   "source": [
    "PU_hour_filtered_df.shape"
   ]
  },
  {
   "cell_type": "markdown",
   "id": "5b22dd80",
   "metadata": {},
   "source": [
    "Change naming for convinience. (Simply changing the pointer)"
   ]
  },
  {
   "cell_type": "code",
   "execution_count": 32,
   "id": "99561be7",
   "metadata": {},
   "outputs": [],
   "source": [
    "PU_hour_df = PU_hour_filtered_df"
   ]
  },
  {
   "cell_type": "code",
   "execution_count": 33,
   "id": "9567addc",
   "metadata": {},
   "outputs": [],
   "source": [
    "PU_hour_df['pay_rate'] = 3600*PU_hour_df['Pay']/PU_hour_df['trip_time'] #Pay rate is calculated as pay per hour"
   ]
  },
  {
   "cell_type": "code",
   "execution_count": 34,
   "id": "823b3a3a",
   "metadata": {},
   "outputs": [
    {
     "data": {
      "text/html": [
       "<div>\n",
       "<style scoped>\n",
       "    .dataframe tbody tr th:only-of-type {\n",
       "        vertical-align: middle;\n",
       "    }\n",
       "\n",
       "    .dataframe tbody tr th {\n",
       "        vertical-align: top;\n",
       "    }\n",
       "\n",
       "    .dataframe thead th {\n",
       "        text-align: right;\n",
       "    }\n",
       "</style>\n",
       "<table border=\"1\" class=\"dataframe\">\n",
       "  <thead>\n",
       "    <tr style=\"text-align: right;\">\n",
       "      <th></th>\n",
       "      <th>trip_distance</th>\n",
       "      <th>PULocationID</th>\n",
       "      <th>pickup_time</th>\n",
       "      <th>dropoff_time</th>\n",
       "      <th>PU_hour</th>\n",
       "      <th>Pay</th>\n",
       "      <th>trip_time</th>\n",
       "      <th>pay_rate</th>\n",
       "    </tr>\n",
       "  </thead>\n",
       "  <tbody>\n",
       "    <tr>\n",
       "      <th>0</th>\n",
       "      <td>1.5</td>\n",
       "      <td>151</td>\n",
       "      <td>2019-01-01 00:46:40</td>\n",
       "      <td>2019-01-01 00:53:20</td>\n",
       "      <td>0</td>\n",
       "      <td>8.65</td>\n",
       "      <td>400.0</td>\n",
       "      <td>77.850</td>\n",
       "    </tr>\n",
       "    <tr>\n",
       "      <th>1</th>\n",
       "      <td>2.6</td>\n",
       "      <td>239</td>\n",
       "      <td>2019-01-01 00:59:47</td>\n",
       "      <td>2019-01-01 01:18:59</td>\n",
       "      <td>0</td>\n",
       "      <td>15.00</td>\n",
       "      <td>1152.0</td>\n",
       "      <td>46.875</td>\n",
       "    </tr>\n",
       "    <tr>\n",
       "      <th>2</th>\n",
       "      <td>0.0</td>\n",
       "      <td>236</td>\n",
       "      <td>2018-12-21 13:48:30</td>\n",
       "      <td>2018-12-21 13:52:40</td>\n",
       "      <td>13</td>\n",
       "      <td>4.50</td>\n",
       "      <td>250.0</td>\n",
       "      <td>64.800</td>\n",
       "    </tr>\n",
       "    <tr>\n",
       "      <th>3</th>\n",
       "      <td>0.0</td>\n",
       "      <td>193</td>\n",
       "      <td>2018-11-28 15:52:25</td>\n",
       "      <td>2018-11-28 15:55:45</td>\n",
       "      <td>15</td>\n",
       "      <td>3.50</td>\n",
       "      <td>200.0</td>\n",
       "      <td>63.000</td>\n",
       "    </tr>\n",
       "    <tr>\n",
       "      <th>4</th>\n",
       "      <td>0.0</td>\n",
       "      <td>193</td>\n",
       "      <td>2018-11-28 15:56:57</td>\n",
       "      <td>2018-11-28 15:58:33</td>\n",
       "      <td>15</td>\n",
       "      <td>52.00</td>\n",
       "      <td>96.0</td>\n",
       "      <td>1950.000</td>\n",
       "    </tr>\n",
       "  </tbody>\n",
       "</table>\n",
       "</div>"
      ],
      "text/plain": [
       "   trip_distance  PULocationID         pickup_time        dropoff_time  \\\n",
       "0            1.5           151 2019-01-01 00:46:40 2019-01-01 00:53:20   \n",
       "1            2.6           239 2019-01-01 00:59:47 2019-01-01 01:18:59   \n",
       "2            0.0           236 2018-12-21 13:48:30 2018-12-21 13:52:40   \n",
       "3            0.0           193 2018-11-28 15:52:25 2018-11-28 15:55:45   \n",
       "4            0.0           193 2018-11-28 15:56:57 2018-11-28 15:58:33   \n",
       "\n",
       "   PU_hour    Pay  trip_time  pay_rate  \n",
       "0        0   8.65      400.0    77.850  \n",
       "1        0  15.00     1152.0    46.875  \n",
       "2       13   4.50      250.0    64.800  \n",
       "3       15   3.50      200.0    63.000  \n",
       "4       15  52.00       96.0  1950.000  "
      ]
     },
     "execution_count": 34,
     "metadata": {},
     "output_type": "execute_result"
    }
   ],
   "source": [
    "PU_hour_df.head()"
   ]
  },
  {
   "cell_type": "code",
   "execution_count": 35,
   "id": "96adb1e2",
   "metadata": {},
   "outputs": [
    {
     "data": {
      "text/plain": [
       "263"
      ]
     },
     "execution_count": 35,
     "metadata": {},
     "output_type": "execute_result"
    }
   ],
   "source": [
    "len(PU_hour_df['PULocationID'].unique())"
   ]
  },
  {
   "cell_type": "code",
   "execution_count": 36,
   "id": "2097f9bb",
   "metadata": {},
   "outputs": [],
   "source": [
    "hourly_pay_rates = PU_hour_df.groupby(['PU_hour'])['pay_rate'].mean()"
   ]
  },
  {
   "cell_type": "code",
   "execution_count": 37,
   "id": "c4d070d3",
   "metadata": {},
   "outputs": [
    {
     "data": {
      "image/png": "[encoded data removed]",
      "text/plain": [
       "<Figure size 1008x360 with 1 Axes>"
      ]
     },
     "metadata": {
      "needs_background": "light"
     },
     "output_type": "display_data"
    }
   ],
   "source": [
    "fig, ax = plt.subplots(1, 1, figsize=(14,5))\n",
    "_ = sns.barplot(hourly_pay_rates.index, hourly_pay_rates, ax = ax)\n",
    "ax.set_xlabel('Pick Up Hour')\n",
    "ax.set_ylabel('Avg Hourly Pay Rate')\n",
    "_ = ax.set_title('Pay rate in the hour of the day')"
   ]
  },
  {
   "cell_type": "code",
   "execution_count": 38,
   "id": "c1004ba1",
   "metadata": {},
   "outputs": [],
   "source": [
    "PU_loc_pay_rates = PU_hour_df.groupby(['PULocationID'])['pay_rate'].mean()"
   ]
  },
  {
   "cell_type": "code",
   "execution_count": 39,
   "id": "fb5a5daf",
   "metadata": {},
   "outputs": [
    {
     "data": {
      "image/png": "[encoded data removed]",
      "text/plain": [
       "<Figure size 1440x360 with 1 Axes>"
      ]
     },
     "metadata": {
      "needs_background": "light"
     },
     "output_type": "display_data"
    }
   ],
   "source": [
    "fig, ax = plt.subplots(1, 1, figsize=(20,5))\n",
    "_ = sns.barplot(PU_loc_pay_rates.index, PU_loc_pay_rates, ax = ax)\n",
    "ax.set_xlabel('Pick Up Location ID')\n",
    "ax.set_ylabel('Avg Hourly Pay Rate')\n",
    "_ = ax.set_title('Pay rate at each pickup location')"
   ]
  },
  {
   "cell_type": "code",
   "execution_count": 40,
   "id": "3df345fb",
   "metadata": {},
   "outputs": [
    {
     "data": {
      "text/plain": [
       "PULocationID\n",
       "1    41348.542556\n",
       "2      123.109464\n",
       "3       72.995193\n",
       "4      152.231594\n",
       "5     2666.996052\n",
       "Name: pay_rate, dtype: float64"
      ]
     },
     "execution_count": 40,
     "metadata": {},
     "output_type": "execute_result"
    }
   ],
   "source": [
    "PU_loc_pay_rates.head()"
   ]
  },
  {
   "cell_type": "code",
   "execution_count": 41,
   "id": "97cfcd60",
   "metadata": {},
   "outputs": [],
   "source": [
    "pay_threshold =1000 #To pick the pay_threshold I use the \"pay_rate\" rather than the \"drivers_pay  \"\n",
    "\n",
    "good_PU_locations = PU_loc_pay_rates[PU_loc_pay_rates >= pay_threshold]"
   ]
  },
  {
   "cell_type": "code",
   "execution_count": 42,
   "id": "7d5ebb74",
   "metadata": {},
   "outputs": [
    {
     "data": {
      "text/plain": [
       "(30,)"
      ]
     },
     "execution_count": 42,
     "metadata": {},
     "output_type": "execute_result"
    }
   ],
   "source": [
    "good_PU_locations.shape"
   ]
  },
  {
   "cell_type": "code",
   "execution_count": 43,
   "id": "e20cea39",
   "metadata": {},
   "outputs": [
    {
     "data": {
      "text/plain": [
       "Int64Index([  1,   5,   6,  14,  15,  20,  23,  27,  57,  70,  73, 109, 115,\n",
       "            127, 171, 172, 176, 180, 192, 197, 201, 202, 204, 214, 216, 240,\n",
       "            243, 245, 264, 265],\n",
       "           dtype='int64', name='PULocationID')"
      ]
     },
     "execution_count": 43,
     "metadata": {},
     "output_type": "execute_result"
    }
   ],
   "source": [
    "good_PU_locations.index"
   ]
  },
  {
   "cell_type": "code",
   "execution_count": 44,
   "id": "f011f2b5",
   "metadata": {},
   "outputs": [
    {
     "data": {
      "text/plain": [
       "(30, 3)"
      ]
     },
     "execution_count": 44,
     "metadata": {},
     "output_type": "execute_result"
    }
   ],
   "source": [
    "zones_df.loc[good_PU_locations.index].shape"
   ]
  },
  {
   "cell_type": "code",
   "execution_count": 45,
   "id": "84d61d45",
   "metadata": {},
   "outputs": [],
   "source": [
    "good_zones_df = zones_df.loc[good_PU_locations.index].dropna()"
   ]
  },
  {
   "cell_type": "code",
   "execution_count": 46,
   "id": "476427be",
   "metadata": {},
   "outputs": [
    {
     "data": {
      "text/html": [
       "<div>\n",
       "<style scoped>\n",
       "    .dataframe tbody tr th:only-of-type {\n",
       "        vertical-align: middle;\n",
       "    }\n",
       "\n",
       "    .dataframe tbody tr th {\n",
       "        vertical-align: top;\n",
       "    }\n",
       "\n",
       "    .dataframe thead th {\n",
       "        text-align: right;\n",
       "    }\n",
       "</style>\n",
       "<table border=\"1\" class=\"dataframe\">\n",
       "  <thead>\n",
       "    <tr style=\"text-align: right;\">\n",
       "      <th></th>\n",
       "      <th>Borough</th>\n",
       "      <th>Zone</th>\n",
       "      <th>service_zone</th>\n",
       "    </tr>\n",
       "    <tr>\n",
       "      <th>PULocationID</th>\n",
       "      <th></th>\n",
       "      <th></th>\n",
       "      <th></th>\n",
       "    </tr>\n",
       "  </thead>\n",
       "  <tbody>\n",
       "    <tr>\n",
       "      <th>1</th>\n",
       "      <td>EWR</td>\n",
       "      <td>Newark Airport</td>\n",
       "      <td>EWR</td>\n",
       "    </tr>\n",
       "    <tr>\n",
       "      <th>5</th>\n",
       "      <td>Staten Island</td>\n",
       "      <td>Arden Heights</td>\n",
       "      <td>Boro Zone</td>\n",
       "    </tr>\n",
       "    <tr>\n",
       "      <th>6</th>\n",
       "      <td>Staten Island</td>\n",
       "      <td>Arrochar/Fort Wadsworth</td>\n",
       "      <td>Boro Zone</td>\n",
       "    </tr>\n",
       "    <tr>\n",
       "      <th>14</th>\n",
       "      <td>Brooklyn</td>\n",
       "      <td>Bay Ridge</td>\n",
       "      <td>Boro Zone</td>\n",
       "    </tr>\n",
       "    <tr>\n",
       "      <th>15</th>\n",
       "      <td>Queens</td>\n",
       "      <td>Bay Terrace/Fort Totten</td>\n",
       "      <td>Boro Zone</td>\n",
       "    </tr>\n",
       "  </tbody>\n",
       "</table>\n",
       "</div>"
      ],
      "text/plain": [
       "                    Borough                     Zone service_zone\n",
       "PULocationID                                                     \n",
       "1                       EWR           Newark Airport          EWR\n",
       "5             Staten Island            Arden Heights    Boro Zone\n",
       "6             Staten Island  Arrochar/Fort Wadsworth    Boro Zone\n",
       "14                 Brooklyn                Bay Ridge    Boro Zone\n",
       "15                   Queens  Bay Terrace/Fort Totten    Boro Zone"
      ]
     },
     "execution_count": 46,
     "metadata": {},
     "output_type": "execute_result"
    }
   ],
   "source": [
    "good_zones_df.head()"
   ]
  },
  {
   "cell_type": "markdown",
   "id": "6c6bd1f4",
   "metadata": {},
   "source": [
    "## Predicting the Drivers' Pay using all data"
   ]
  },
  {
   "cell_type": "code",
   "execution_count": 47,
   "id": "7c1cfb98",
   "metadata": {},
   "outputs": [],
   "source": [
    "X = PU_hour_df[['trip_distance','trip_time']]"
   ]
  },
  {
   "cell_type": "code",
   "execution_count": 48,
   "id": "b97816ab",
   "metadata": {},
   "outputs": [],
   "source": [
    "Y = PU_hour_df[['Pay']]"
   ]
  },
  {
   "cell_type": "code",
   "execution_count": 49,
   "id": "0f2b170d",
   "metadata": {},
   "outputs": [
    {
     "name": "stdout",
     "output_type": "stream",
     "text": [
      "<class 'pandas.core.frame.DataFrame'>\n",
      "Int64Index: 7661498 entries, 0 to 7667791\n",
      "Data columns (total 2 columns):\n",
      " #   Column         Dtype  \n",
      "---  ------         -----  \n",
      " 0   trip_distance  float64\n",
      " 1   trip_time      float64\n",
      "dtypes: float64(2)\n",
      "memory usage: 175.4 MB\n"
     ]
    }
   ],
   "source": [
    "X.info()"
   ]
  },
  {
   "cell_type": "code",
   "execution_count": 50,
   "id": "ce02968a",
   "metadata": {},
   "outputs": [
    {
     "data": {
      "text/html": [
       "<div>\n",
       "<style scoped>\n",
       "    .dataframe tbody tr th:only-of-type {\n",
       "        vertical-align: middle;\n",
       "    }\n",
       "\n",
       "    .dataframe tbody tr th {\n",
       "        vertical-align: top;\n",
       "    }\n",
       "\n",
       "    .dataframe thead th {\n",
       "        text-align: right;\n",
       "    }\n",
       "</style>\n",
       "<table border=\"1\" class=\"dataframe\">\n",
       "  <thead>\n",
       "    <tr style=\"text-align: right;\">\n",
       "      <th></th>\n",
       "      <th>trip_distance</th>\n",
       "      <th>trip_time</th>\n",
       "    </tr>\n",
       "  </thead>\n",
       "  <tbody>\n",
       "    <tr>\n",
       "      <th>0</th>\n",
       "      <td>1.5</td>\n",
       "      <td>400.0</td>\n",
       "    </tr>\n",
       "    <tr>\n",
       "      <th>1</th>\n",
       "      <td>2.6</td>\n",
       "      <td>1152.0</td>\n",
       "    </tr>\n",
       "    <tr>\n",
       "      <th>2</th>\n",
       "      <td>0.0</td>\n",
       "      <td>250.0</td>\n",
       "    </tr>\n",
       "    <tr>\n",
       "      <th>3</th>\n",
       "      <td>0.0</td>\n",
       "      <td>200.0</td>\n",
       "    </tr>\n",
       "    <tr>\n",
       "      <th>4</th>\n",
       "      <td>0.0</td>\n",
       "      <td>96.0</td>\n",
       "    </tr>\n",
       "  </tbody>\n",
       "</table>\n",
       "</div>"
      ],
      "text/plain": [
       "   trip_distance  trip_time\n",
       "0            1.5      400.0\n",
       "1            2.6     1152.0\n",
       "2            0.0      250.0\n",
       "3            0.0      200.0\n",
       "4            0.0       96.0"
      ]
     },
     "execution_count": 50,
     "metadata": {},
     "output_type": "execute_result"
    }
   ],
   "source": [
    "X.head()"
   ]
  },
  {
   "cell_type": "code",
   "execution_count": 51,
   "id": "218e4741",
   "metadata": {},
   "outputs": [
    {
     "data": {
      "text/html": [
       "<div>\n",
       "<style scoped>\n",
       "    .dataframe tbody tr th:only-of-type {\n",
       "        vertical-align: middle;\n",
       "    }\n",
       "\n",
       "    .dataframe tbody tr th {\n",
       "        vertical-align: top;\n",
       "    }\n",
       "\n",
       "    .dataframe thead th {\n",
       "        text-align: right;\n",
       "    }\n",
       "</style>\n",
       "<table border=\"1\" class=\"dataframe\">\n",
       "  <thead>\n",
       "    <tr style=\"text-align: right;\">\n",
       "      <th></th>\n",
       "      <th>Pay</th>\n",
       "    </tr>\n",
       "  </thead>\n",
       "  <tbody>\n",
       "    <tr>\n",
       "      <th>0</th>\n",
       "      <td>8.65</td>\n",
       "    </tr>\n",
       "    <tr>\n",
       "      <th>1</th>\n",
       "      <td>15.00</td>\n",
       "    </tr>\n",
       "    <tr>\n",
       "      <th>2</th>\n",
       "      <td>4.50</td>\n",
       "    </tr>\n",
       "    <tr>\n",
       "      <th>3</th>\n",
       "      <td>3.50</td>\n",
       "    </tr>\n",
       "    <tr>\n",
       "      <th>4</th>\n",
       "      <td>52.00</td>\n",
       "    </tr>\n",
       "  </tbody>\n",
       "</table>\n",
       "</div>"
      ],
      "text/plain": [
       "     Pay\n",
       "0   8.65\n",
       "1  15.00\n",
       "2   4.50\n",
       "3   3.50\n",
       "4  52.00"
      ]
     },
     "execution_count": 51,
     "metadata": {},
     "output_type": "execute_result"
    }
   ],
   "source": [
    "Y.head()"
   ]
  },
  {
   "cell_type": "code",
   "execution_count": 52,
   "id": "8a531175",
   "metadata": {},
   "outputs": [],
   "source": [
    "from sklearn.model_selection import train_test_split"
   ]
  },
  {
   "cell_type": "code",
   "execution_count": 53,
   "id": "0f38f17a",
   "metadata": {},
   "outputs": [],
   "source": [
    "X_train,X_test,Y_train,Y_test = train_test_split(X,Y,test_size = 0.3, random_state=1)"
   ]
  },
  {
   "cell_type": "code",
   "execution_count": 54,
   "id": "98aa4ccc",
   "metadata": {},
   "outputs": [],
   "source": [
    "from sklearn.linear_model import LinearRegression"
   ]
  },
  {
   "cell_type": "code",
   "execution_count": 55,
   "id": "bd2e8689",
   "metadata": {},
   "outputs": [],
   "source": [
    "regress_linear_general = LinearRegression()"
   ]
  },
  {
   "cell_type": "code",
   "execution_count": 56,
   "id": "d5af6e87",
   "metadata": {},
   "outputs": [
    {
     "data": {
      "text/plain": [
       "LinearRegression()"
      ]
     },
     "execution_count": 56,
     "metadata": {},
     "output_type": "execute_result"
    }
   ],
   "source": [
    "regress_linear_general.fit(X_train,Y_train)"
   ]
  },
  {
   "cell_type": "code",
   "execution_count": 57,
   "id": "9ab7ca1e",
   "metadata": {},
   "outputs": [],
   "source": [
    "Y_hat = regress_linear_general.predict(X_test)"
   ]
  },
  {
   "cell_type": "code",
   "execution_count": 58,
   "id": "9a011421",
   "metadata": {},
   "outputs": [],
   "source": [
    "from sklearn.metrics import mean_squared_error, r2_score"
   ]
  },
  {
   "cell_type": "code",
   "execution_count": 59,
   "id": "cbc2bfd3",
   "metadata": {},
   "outputs": [
    {
     "name": "stdout",
     "output_type": "stream",
     "text": [
      "Coefficients: \n",
      " [[3.05242834e+00 4.24373998e-05]]\n",
      "Mean squared error: 33.91\n",
      "Coefficient of determination: 0.79\n"
     ]
    }
   ],
   "source": [
    "print('Coefficients: \\n', regress_linear_general.coef_)\n",
    "print('Mean squared error: %.2f'\n",
    "      % mean_squared_error(Y_test, Y_hat))\n",
    "print('Coefficient of determination: %.2f'\n",
    "      % r2_score(Y_test, Y_hat))"
   ]
  },
  {
   "cell_type": "code",
   "execution_count": 60,
   "id": "fd5913be",
   "metadata": {},
   "outputs": [],
   "source": [
    "def hourly_correlation(X_hour):\n",
    "    X = X_hour[['trip_distance','trip_time']]\n",
    "    Y = X_hour[['Pay']]\n",
    "    \n",
    "    if X.shape[0] < 5:\n",
    "        return np.nan,np.nan\n",
    "    \n",
    "    X_train,X_test,Y_train,Y_test = train_test_split(X,Y,test_size = 0.3, random_state = 1)\n",
    "    \n",
    "    \n",
    "    \n",
    "    regr = LinearRegression()\n",
    "    regr.fit(X_train,Y_train)\n",
    "    \n",
    "    Y_hat = regr.predict(X_test)\n",
    "    \n",
    "    return mean_squared_error(Y_test, Y_hat),r2_score(Y_test, Y_hat)"
   ]
  },
  {
   "cell_type": "code",
   "execution_count": 61,
   "id": "2a786db8",
   "metadata": {},
   "outputs": [],
   "source": [
    "mse_list = []\n",
    "r2_list = []\n",
    "hour = []\n",
    "\n",
    "for i in range(24):\n",
    "    X_hour = PU_hour_df[PU_hour_df.PU_hour == i]\n",
    "    mse,r2 = hourly_correlation(X_hour)\n",
    "    \n",
    "    mse_list.append(mse)\n",
    "    r2_list.append(r2)\n",
    "    hour.append(i)"
   ]
  },
  {
   "cell_type": "code",
   "execution_count": 62,
   "id": "905cb064",
   "metadata": {},
   "outputs": [
    {
     "data": {
      "image/png": "[encoded data removed]",
      "text/plain": [
       "<Figure size 1008x360 with 1 Axes>"
      ]
     },
     "metadata": {
      "needs_background": "light"
     },
     "output_type": "display_data"
    }
   ],
   "source": [
    "fig, ax = plt.subplots(1, 1, figsize=(14,5))\n",
    "_ = sns.barplot(hour , mse_list, ax = ax)\n",
    "ax.set_xlabel('Pick Up Hour')\n",
    "ax.set_ylabel('MSE of the prediction')\n",
    "_ = ax.set_title('Mean Squared Error of prediction during the hour of the day')"
   ]
  },
  {
   "cell_type": "code",
   "execution_count": 63,
   "id": "4afadbce",
   "metadata": {},
   "outputs": [
    {
     "data": {
      "image/png": "[encoded data removed]",
      "text/plain": [
       "<Figure size 1008x360 with 1 Axes>"
      ]
     },
     "metadata": {
      "needs_background": "light"
     },
     "output_type": "display_data"
    }
   ],
   "source": [
    "fig, ax = plt.subplots(1, 1, figsize=(14,5))\n",
    "_ = sns.barplot(hour , r2_list, ax = ax)\n",
    "ax.set_xlabel('Pick Up Hour')\n",
    "ax.set_ylabel('r2_score of the prediction')\n",
    "_ = ax.set_title('Coefficient of determination of prediction during the hour of the day')"
   ]
  },
  {
   "cell_type": "markdown",
   "id": "fd38a362",
   "metadata": {},
   "source": [
    "### Now Let's try on a specific location"
   ]
  },
  {
   "cell_type": "code",
   "execution_count": 64,
   "id": "ed707d39",
   "metadata": {},
   "outputs": [],
   "source": [
    "good_PU_locations_lst = list(good_PU_locations.index)"
   ]
  },
  {
   "cell_type": "code",
   "execution_count": 65,
   "id": "13570f0a",
   "metadata": {},
   "outputs": [
    {
     "data": {
      "text/plain": [
       "list"
      ]
     },
     "execution_count": 65,
     "metadata": {},
     "output_type": "execute_result"
    }
   ],
   "source": [
    "type(good_PU_locations_lst)"
   ]
  },
  {
   "cell_type": "code",
   "execution_count": 66,
   "id": "f469c3d6",
   "metadata": {},
   "outputs": [],
   "source": [
    "#Newark_df = PU_hour_df.query('PULocationID in @good_PU_locations_lst') #[1, 27, 109, 172, 204, 265]\n",
    "location_id = 3\n",
    "Newark_df = PU_hour_df.query('PULocationID == @location_id')"
   ]
  },
  {
   "cell_type": "code",
   "execution_count": 67,
   "id": "8b439497",
   "metadata": {},
   "outputs": [
    {
     "data": {
      "text/plain": [
       "175"
      ]
     },
     "execution_count": 67,
     "metadata": {},
     "output_type": "execute_result"
    }
   ],
   "source": [
    "Newark_df.shape[0]"
   ]
  },
  {
   "cell_type": "code",
   "execution_count": 68,
   "id": "59ab744d",
   "metadata": {},
   "outputs": [],
   "source": [
    "mse_list = []\n",
    "r2_list = []\n",
    "hour = []\n",
    "\n",
    "for i in range(24):\n",
    "    X_hour = Newark_df[Newark_df.PU_hour == i]\n",
    "    mse,r2 = hourly_correlation(X_hour)\n",
    "    \n",
    "    mse_list.append(mse)\n",
    "    r2_list.append(r2)\n",
    "    hour.append(i)"
   ]
  },
  {
   "cell_type": "code",
   "execution_count": 69,
   "id": "6fa320f0",
   "metadata": {},
   "outputs": [
    {
     "data": {
      "image/png": "[encoded data removed]",
      "text/plain": [
       "<Figure size 1008x360 with 1 Axes>"
      ]
     },
     "metadata": {
      "needs_background": "light"
     },
     "output_type": "display_data"
    }
   ],
   "source": [
    "fig, ax = plt.subplots(1, 1, figsize=(14,5))\n",
    "_ = sns.barplot(hour , mse_list, ax = ax)\n",
    "ax.set_xlabel('Pick Up Hour')\n",
    "ax.set_ylabel('MSE of the prediction')\n",
    "_ = ax.set_title('Mean Squared Error of prediction during the hour of the day')"
   ]
  },
  {
   "cell_type": "code",
   "execution_count": 70,
   "id": "8fa181e4",
   "metadata": {},
   "outputs": [
    {
     "data": {
      "image/png": "[encoded data removed]",
      "text/plain": [
       "<Figure size 1008x360 with 1 Axes>"
      ]
     },
     "metadata": {
      "needs_background": "light"
     },
     "output_type": "display_data"
    }
   ],
   "source": [
    "fig, ax = plt.subplots(1, 1, figsize=(14,5))\n",
    "_ = sns.barplot(hour , r2_list, ax = ax)\n",
    "ax.set_xlabel('Pick Up Hour')\n",
    "ax.set_ylabel('r2_score of the prediction')\n",
    "_ = ax.set_title('Coefficient of determination of prediction during the hour of the day')"
   ]
  },
  {
   "cell_type": "markdown",
   "id": "8be5f481",
   "metadata": {},
   "source": [
    "### Now let's try to build a data structure of the predictability based on location and hour"
   ]
  },
  {
   "cell_type": "code",
   "execution_count": 71,
   "id": "75c298b1",
   "metadata": {},
   "outputs": [],
   "source": [
    "good_locations_test = good_PU_locations_lst[:10]"
   ]
  },
  {
   "cell_type": "code",
   "execution_count": 72,
   "id": "0c4fed6a",
   "metadata": {},
   "outputs": [
    {
     "data": {
      "text/plain": [
       "[1, 5, 6, 14, 15, 20, 23, 27, 57, 70]"
      ]
     },
     "execution_count": 72,
     "metadata": {},
     "output_type": "execute_result"
    }
   ],
   "source": [
    "good_locations_test"
   ]
  },
  {
   "cell_type": "code",
   "execution_count": 73,
   "id": "b67caaaf",
   "metadata": {},
   "outputs": [],
   "source": [
    "import math"
   ]
  },
  {
   "cell_type": "code",
   "execution_count": 74,
   "id": "f92b6137",
   "metadata": {},
   "outputs": [],
   "source": [
    "mse_dict = dict()\n",
    "r2_dict = dict()\n",
    "\n",
    "for hour in range(24):\n",
    "    mse_dict[hour] = dict()\n",
    "    r2_dict[hour] = dict()\n",
    "\n",
    "for location_id in good_locations_test:\n",
    "    #print(location_id)\n",
    "    \n",
    "    location_df = PU_hour_df.query('PULocationID == @location_id')\n",
    "    \n",
    "    for hour in range(24):\n",
    "        X_hour = location_df[location_df.PU_hour == hour]\n",
    "        mse,r2 = hourly_correlation(X_hour)\n",
    "        \n",
    "        if math.isnan(mse):\n",
    "            continue\n",
    "        else:\n",
    "            mse_dict[hour][mse] = location_id\n",
    "            r2_dict[hour][mse] = location_id"
   ]
  },
  {
   "cell_type": "code",
   "execution_count": 75,
   "id": "c4b0679d",
   "metadata": {},
   "outputs": [
    {
     "name": "stdout",
     "output_type": "stream",
     "text": [
      "462.196297867723\n",
      "309.26873766964974\n",
      "0.4875169288456852\n",
      "435.53416023932084\n",
      "28.055605697961294\n",
      "0.029685559705976663\n",
      "7.305504577739946\n",
      "2.5159464397812754\n",
      "0.137024100802467\n",
      "20.31876751769253\n",
      "17.09476213550694\n",
      "0.8687469835588228\n",
      "2.163743996504005\n",
      "4.176950574669546\n",
      "2.2019204083358805\n",
      "13.816623799412346\n",
      "0.537486301727294\n",
      "64.4104627977803\n",
      "49.27077159419313\n",
      "0.0657190445307072\n",
      "776.4498109622574\n",
      "18.027536699393426\n",
      "51.01674134550182\n",
      "5.22511969431205\n"
     ]
    }
   ],
   "source": [
    "for hour in range(24):\n",
    "    print(min(mse_dict[hour]))"
   ]
  },
  {
   "cell_type": "code",
   "execution_count": 76,
   "id": "3d1e0d8f",
   "metadata": {},
   "outputs": [
    {
     "data": {
      "text/html": [
       "<div>\n",
       "<style scoped>\n",
       "    .dataframe tbody tr th:only-of-type {\n",
       "        vertical-align: middle;\n",
       "    }\n",
       "\n",
       "    .dataframe tbody tr th {\n",
       "        vertical-align: top;\n",
       "    }\n",
       "\n",
       "    .dataframe thead th {\n",
       "        text-align: right;\n",
       "    }\n",
       "</style>\n",
       "<table border=\"1\" class=\"dataframe\">\n",
       "  <thead>\n",
       "    <tr style=\"text-align: right;\">\n",
       "      <th></th>\n",
       "      <th>Borough</th>\n",
       "      <th>Zone</th>\n",
       "      <th>service_zone</th>\n",
       "    </tr>\n",
       "    <tr>\n",
       "      <th>LocationID</th>\n",
       "      <th></th>\n",
       "      <th></th>\n",
       "      <th></th>\n",
       "    </tr>\n",
       "  </thead>\n",
       "  <tbody>\n",
       "    <tr>\n",
       "      <th>14</th>\n",
       "      <td>Brooklyn</td>\n",
       "      <td>Bay Ridge</td>\n",
       "      <td>Boro Zone</td>\n",
       "    </tr>\n",
       "  </tbody>\n",
       "</table>\n",
       "</div>"
      ],
      "text/plain": [
       "             Borough       Zone service_zone\n",
       "LocationID                                  \n",
       "14          Brooklyn  Bay Ridge    Boro Zone"
      ]
     },
     "execution_count": 76,
     "metadata": {},
     "output_type": "execute_result"
    }
   ],
   "source": [
    "zones_df.loc[[mse_dict[0][min(mse_dict[0])]]]"
   ]
  },
  {
   "cell_type": "code",
   "execution_count": 77,
   "id": "04d01b0a",
   "metadata": {},
   "outputs": [
    {
     "data": {
      "text/html": [
       "<div>\n",
       "<style scoped>\n",
       "    .dataframe tbody tr th:only-of-type {\n",
       "        vertical-align: middle;\n",
       "    }\n",
       "\n",
       "    .dataframe tbody tr th {\n",
       "        vertical-align: top;\n",
       "    }\n",
       "\n",
       "    .dataframe thead th {\n",
       "        text-align: right;\n",
       "    }\n",
       "</style>\n",
       "<table border=\"1\" class=\"dataframe\">\n",
       "  <thead>\n",
       "    <tr style=\"text-align: right;\">\n",
       "      <th></th>\n",
       "      <th>Borough</th>\n",
       "      <th>Zone</th>\n",
       "    </tr>\n",
       "    <tr>\n",
       "      <th>LocationID</th>\n",
       "      <th></th>\n",
       "      <th></th>\n",
       "    </tr>\n",
       "  </thead>\n",
       "  <tbody>\n",
       "    <tr>\n",
       "      <th>14</th>\n",
       "      <td>Brooklyn</td>\n",
       "      <td>Bay Ridge</td>\n",
       "    </tr>\n",
       "  </tbody>\n",
       "</table>\n",
       "</div>"
      ],
      "text/plain": [
       "             Borough       Zone\n",
       "LocationID                     \n",
       "14          Brooklyn  Bay Ridge"
      ]
     },
     "execution_count": 77,
     "metadata": {},
     "output_type": "execute_result"
    }
   ],
   "source": [
    "zones_df.loc[[mse_dict[0][min(mse_dict[0])]]][['Borough','Zone']]"
   ]
  },
  {
   "cell_type": "code",
   "execution_count": 78,
   "id": "e348e9ae",
   "metadata": {},
   "outputs": [
    {
     "name": "stdout",
     "output_type": "stream",
     "text": [
      "             Borough       Zone\n",
      "LocationID                     \n",
      "14          Brooklyn  Bay Ridge\n"
     ]
    }
   ],
   "source": [
    "print(zones_df.loc[[mse_dict[0][min(mse_dict[0])]]][['Borough','Zone']])"
   ]
  },
  {
   "cell_type": "code",
   "execution_count": 79,
   "id": "77411143",
   "metadata": {},
   "outputs": [
    {
     "name": "stdout",
     "output_type": "stream",
     "text": [
      "             Borough       Zone\n",
      "LocationID                     \n",
      "14          Brooklyn  Bay Ridge\n",
      "             Borough       Zone\n",
      "LocationID                     \n",
      "14          Brooklyn  Bay Ridge\n",
      "           Borough     Zone\n",
      "LocationID                 \n",
      "20           Bronx  Belmont\n",
      "           Borough           Zone\n",
      "LocationID                       \n",
      "70          Queens  East Elmhurst\n",
      "           Borough           Zone\n",
      "LocationID                       \n",
      "70          Queens  East Elmhurst\n",
      "                  Borough                     Zone\n",
      "LocationID                                        \n",
      "6           Staten Island  Arrochar/Fort Wadsworth\n",
      "             Borough       Zone\n",
      "LocationID                     \n",
      "14          Brooklyn  Bay Ridge\n",
      "             Borough       Zone\n",
      "LocationID                     \n",
      "14          Brooklyn  Bay Ridge\n",
      "           Borough     Zone\n",
      "LocationID                 \n",
      "20           Bronx  Belmont\n",
      "           Borough           Zone\n",
      "LocationID                       \n",
      "70          Queens  East Elmhurst\n",
      "           Borough                     Zone\n",
      "LocationID                                 \n",
      "15          Queens  Bay Terrace/Fort Totten\n",
      "           Borough                     Zone\n",
      "LocationID                                 \n",
      "15          Queens  Bay Terrace/Fort Totten\n",
      "           Borough     Zone\n",
      "LocationID                 \n",
      "20           Bronx  Belmont\n",
      "           Borough                     Zone\n",
      "LocationID                                 \n",
      "15          Queens  Bay Terrace/Fort Totten\n",
      "           Borough     Zone\n",
      "LocationID                 \n",
      "20           Bronx  Belmont\n",
      "             Borough       Zone\n",
      "LocationID                     \n",
      "14          Brooklyn  Bay Ridge\n",
      "           Borough                     Zone\n",
      "LocationID                                 \n",
      "15          Queens  Bay Terrace/Fort Totten\n",
      "           Borough     Zone\n",
      "LocationID                 \n",
      "20           Bronx  Belmont\n",
      "           Borough     Zone\n",
      "LocationID                 \n",
      "20           Bronx  Belmont\n",
      "           Borough     Zone\n",
      "LocationID                 \n",
      "20           Bronx  Belmont\n",
      "           Borough           Zone\n",
      "LocationID                       \n",
      "70          Queens  East Elmhurst\n",
      "           Borough     Zone\n",
      "LocationID                 \n",
      "20           Bronx  Belmont\n",
      "             Borough       Zone\n",
      "LocationID                     \n",
      "14          Brooklyn  Bay Ridge\n",
      "             Borough       Zone\n",
      "LocationID                     \n",
      "14          Brooklyn  Bay Ridge\n"
     ]
    }
   ],
   "source": [
    "for hour in range(24):\n",
    "    print(zones_df.loc[[mse_dict[hour][min(mse_dict[hour])]]][['Borough','Zone']])"
   ]
  },
  {
   "cell_type": "code",
   "execution_count": 92,
   "id": "921941c0",
   "metadata": {},
   "outputs": [],
   "source": [
    "def get_best_location_by_mse(hour):\n",
    "    return pd.DataFrame(zones_df.loc[[mse_dict[hour][min(mse_dict[hour])]]][['Borough','Zone']])"
   ]
  },
  {
   "cell_type": "code",
   "execution_count": 95,
   "id": "9f2c5ef6",
   "metadata": {},
   "outputs": [],
   "source": [
    "def get_best_location_by_r2(hour):\n",
    "    return pd.DataFrame(zones_df.loc[[r2_dict[hour][min(r2_dict[hour])]]][['Borough','Zone']])"
   ]
  },
  {
   "cell_type": "code",
   "execution_count": 103,
   "id": "bee497ac",
   "metadata": {},
   "outputs": [
    {
     "data": {
      "text/html": [
       "<div>\n",
       "<style scoped>\n",
       "    .dataframe tbody tr th:only-of-type {\n",
       "        vertical-align: middle;\n",
       "    }\n",
       "\n",
       "    .dataframe tbody tr th {\n",
       "        vertical-align: top;\n",
       "    }\n",
       "\n",
       "    .dataframe thead th {\n",
       "        text-align: right;\n",
       "    }\n",
       "</style>\n",
       "<table border=\"1\" class=\"dataframe\">\n",
       "  <thead>\n",
       "    <tr style=\"text-align: right;\">\n",
       "      <th></th>\n",
       "      <th>Borough</th>\n",
       "      <th>Zone</th>\n",
       "    </tr>\n",
       "    <tr>\n",
       "      <th>LocationID</th>\n",
       "      <th></th>\n",
       "      <th></th>\n",
       "    </tr>\n",
       "  </thead>\n",
       "  <tbody>\n",
       "    <tr>\n",
       "      <th>20</th>\n",
       "      <td>Bronx</td>\n",
       "      <td>Belmont</td>\n",
       "    </tr>\n",
       "  </tbody>\n",
       "</table>\n",
       "</div>"
      ],
      "text/plain": [
       "           Borough     Zone\n",
       "LocationID                 \n",
       "20           Bronx  Belmont"
      ]
     },
     "execution_count": 103,
     "metadata": {},
     "output_type": "execute_result"
    }
   ],
   "source": [
    "hour = 2\n",
    "get_best_location_by_mse(hour)"
   ]
  },
  {
   "cell_type": "code",
   "execution_count": 104,
   "id": "a3ddcc06",
   "metadata": {},
   "outputs": [
    {
     "data": {
      "text/html": [
       "<div>\n",
       "<style scoped>\n",
       "    .dataframe tbody tr th:only-of-type {\n",
       "        vertical-align: middle;\n",
       "    }\n",
       "\n",
       "    .dataframe tbody tr th {\n",
       "        vertical-align: top;\n",
       "    }\n",
       "\n",
       "    .dataframe thead th {\n",
       "        text-align: right;\n",
       "    }\n",
       "</style>\n",
       "<table border=\"1\" class=\"dataframe\">\n",
       "  <thead>\n",
       "    <tr style=\"text-align: right;\">\n",
       "      <th></th>\n",
       "      <th>Borough</th>\n",
       "      <th>Zone</th>\n",
       "    </tr>\n",
       "    <tr>\n",
       "      <th>LocationID</th>\n",
       "      <th></th>\n",
       "      <th></th>\n",
       "    </tr>\n",
       "  </thead>\n",
       "  <tbody>\n",
       "    <tr>\n",
       "      <th>20</th>\n",
       "      <td>Bronx</td>\n",
       "      <td>Belmont</td>\n",
       "    </tr>\n",
       "  </tbody>\n",
       "</table>\n",
       "</div>"
      ],
      "text/plain": [
       "           Borough     Zone\n",
       "LocationID                 \n",
       "20           Bronx  Belmont"
      ]
     },
     "execution_count": 104,
     "metadata": {},
     "output_type": "execute_result"
    }
   ],
   "source": [
    "get_best_location_by_r2(hour)"
   ]
  },
  {
   "cell_type": "code",
   "execution_count": 107,
   "id": "06f799b9",
   "metadata": {},
   "outputs": [
    {
     "data": {
      "text/html": [
       "<div>\n",
       "<style scoped>\n",
       "    .dataframe tbody tr th:only-of-type {\n",
       "        vertical-align: middle;\n",
       "    }\n",
       "\n",
       "    .dataframe tbody tr th {\n",
       "        vertical-align: top;\n",
       "    }\n",
       "\n",
       "    .dataframe thead th {\n",
       "        text-align: right;\n",
       "    }\n",
       "</style>\n",
       "<table border=\"1\" class=\"dataframe\">\n",
       "  <thead>\n",
       "    <tr style=\"text-align: right;\">\n",
       "      <th></th>\n",
       "      <th>Borough</th>\n",
       "      <th>Zone</th>\n",
       "    </tr>\n",
       "    <tr>\n",
       "      <th>LocationID</th>\n",
       "      <th></th>\n",
       "      <th></th>\n",
       "    </tr>\n",
       "  </thead>\n",
       "  <tbody>\n",
       "    <tr>\n",
       "      <th>15</th>\n",
       "      <td>Queens</td>\n",
       "      <td>Bay Terrace/Fort Totten</td>\n",
       "    </tr>\n",
       "  </tbody>\n",
       "</table>\n",
       "</div>"
      ],
      "text/plain": [
       "           Borough                     Zone\n",
       "LocationID                                 \n",
       "15          Queens  Bay Terrace/Fort Totten"
      ]
     },
     "execution_count": 107,
     "metadata": {},
     "output_type": "execute_result"
    }
   ],
   "source": [
    "hour13 = 13\n",
    "get_best_location_by_mse(hour13)"
   ]
  },
  {
   "cell_type": "code",
   "execution_count": 108,
   "id": "8743acc3",
   "metadata": {},
   "outputs": [
    {
     "data": {
      "text/html": [
       "<div>\n",
       "<style scoped>\n",
       "    .dataframe tbody tr th:only-of-type {\n",
       "        vertical-align: middle;\n",
       "    }\n",
       "\n",
       "    .dataframe tbody tr th {\n",
       "        vertical-align: top;\n",
       "    }\n",
       "\n",
       "    .dataframe thead th {\n",
       "        text-align: right;\n",
       "    }\n",
       "</style>\n",
       "<table border=\"1\" class=\"dataframe\">\n",
       "  <thead>\n",
       "    <tr style=\"text-align: right;\">\n",
       "      <th></th>\n",
       "      <th>Borough</th>\n",
       "      <th>Zone</th>\n",
       "    </tr>\n",
       "    <tr>\n",
       "      <th>LocationID</th>\n",
       "      <th></th>\n",
       "      <th></th>\n",
       "    </tr>\n",
       "  </thead>\n",
       "  <tbody>\n",
       "    <tr>\n",
       "      <th>15</th>\n",
       "      <td>Queens</td>\n",
       "      <td>Bay Terrace/Fort Totten</td>\n",
       "    </tr>\n",
       "  </tbody>\n",
       "</table>\n",
       "</div>"
      ],
      "text/plain": [
       "           Borough                     Zone\n",
       "LocationID                                 \n",
       "15          Queens  Bay Terrace/Fort Totten"
      ]
     },
     "execution_count": 108,
     "metadata": {},
     "output_type": "execute_result"
    }
   ],
   "source": [
    "get_best_location_by_r2(hour13)"
   ]
  },
  {
   "cell_type": "code",
   "execution_count": null,
   "id": "9667b66a",
   "metadata": {},
   "outputs": [],
   "source": []
  }
 ],
 "metadata": {
  "kernelspec": {
   "display_name": "Python 3",
   "language": "python",
   "name": "python3"
  },
  "language_info": {
   "codemirror_mode": {
    "name": "ipython",
    "version": 3
   },
   "file_extension": ".py",
   "mimetype": "text/x-python",
   "name": "python",
   "nbconvert_exporter": "python",
   "pygments_lexer": "ipython3",
   "version": "3.8.8"
  }
 },
 "nbformat": 4,
 "nbformat_minor": 5
}
