{
 "cells": [
  {
   "cell_type": "code",
   "execution_count": 1,
   "id": "b29dce35",
   "metadata": {},
   "outputs": [],
   "source": [
    "import random"
   ]
  },
  {
   "cell_type": "code",
   "execution_count": 3,
   "id": "d8d137a7",
   "metadata": {},
   "outputs": [],
   "source": [
    "def random_walk(n):\n",
    "    \n",
    "    x = 0\n",
    "    y = 0\n",
    "    \n",
    "    for i in range(n):\n",
    "        \n",
    "        step = random.choice(['N','S','E','W'])\n",
    "        \n",
    "        if step == 'N':\n",
    "            y = y+1\n",
    "        elif step == 'S':\n",
    "            y = y-1\n",
    "        elif step == 'E':\n",
    "            x = x +1\n",
    "        else:\n",
    "            x =x-1\n",
    "            \n",
    "    return (x,y)"
   ]
  },
  {
   "cell_type": "code",
   "execution_count": 4,
   "id": "7e565993",
   "metadata": {},
   "outputs": [
    {
     "name": "stdout",
     "output_type": "stream",
     "text": [
      "(1, -3)\n",
      "(2, 2)\n",
      "(2, -2)\n",
      "(0, 2)\n",
      "(3, -3)\n",
      "(-2, 2)\n",
      "(0, 2)\n",
      "(-1, -1)\n",
      "(-1, 1)\n",
      "(1, -1)\n",
      "(0, 0)\n",
      "(-2, 6)\n",
      "(1, 3)\n",
      "(1, 3)\n",
      "(2, 6)\n",
      "(-1, 1)\n",
      "(3, 1)\n",
      "(-6, -2)\n",
      "(4, 6)\n",
      "(2, 4)\n",
      "(1, -1)\n",
      "(-2, 2)\n",
      "(-1, -5)\n",
      "(0, -2)\n",
      "(0, -4)\n"
     ]
    }
   ],
   "source": [
    "for i in range(25):\n",
    "    walk = random_walk(10)\n",
    "    print(walk)"
   ]
  },
  {
   "cell_type": "code",
   "execution_count": 5,
   "id": "7e5c33cc",
   "metadata": {},
   "outputs": [],
   "source": [
    "def random_walk_2(n):\n",
    "    x,y = 0,0\n",
    "    \n",
    "    for i in range(n):\n",
    "        (dx,dy) = random.choice([(0,1),(0,-1),(1,0),(-1,0)])\n",
    "        x = x+dx\n",
    "        y = y+dy\n",
    "        \n",
    "    return (x,y)"
   ]
  },
  {
   "cell_type": "code",
   "execution_count": 7,
   "id": "49f435ac",
   "metadata": {},
   "outputs": [
    {
     "name": "stdout",
     "output_type": "stream",
     "text": [
      "(2, -2) Distance from home =  4\n",
      "(-1, 3) Distance from home =  4\n",
      "(1, -1) Distance from home =  2\n",
      "(2, 0) Distance from home =  2\n",
      "(2, 0) Distance from home =  2\n",
      "(2, 2) Distance from home =  4\n",
      "(-4, -2) Distance from home =  6\n",
      "(0, 0) Distance from home =  0\n",
      "(-3, -1) Distance from home =  4\n",
      "(1, -1) Distance from home =  2\n",
      "(0, 2) Distance from home =  2\n",
      "(0, -2) Distance from home =  2\n",
      "(1, -3) Distance from home =  4\n",
      "(-1, -3) Distance from home =  4\n",
      "(4, 2) Distance from home =  6\n",
      "(-6, -4) Distance from home =  10\n",
      "(-1, 1) Distance from home =  2\n",
      "(-1, 3) Distance from home =  4\n",
      "(0, 2) Distance from home =  2\n",
      "(0, -4) Distance from home =  4\n",
      "(-1, -3) Distance from home =  4\n",
      "(-5, -1) Distance from home =  6\n",
      "(-1, -3) Distance from home =  4\n",
      "(-3, 1) Distance from home =  4\n",
      "(-4, 0) Distance from home =  4\n"
     ]
    }
   ],
   "source": [
    "for i in range(25):\n",
    "    walk = random_walk_2(10)\n",
    "    print(walk, 'Distance from home = ', abs(walk[0])+abs(walk[1]))"
   ]
  },
  {
   "cell_type": "code",
   "execution_count": 11,
   "id": "0198ea84",
   "metadata": {},
   "outputs": [
    {
     "name": "stdout",
     "output_type": "stream",
     "text": [
      "Walk size =  1 /% of no transport =  100.0\n",
      "Walk size =  2 /% of no transport =  100.0\n",
      "Walk size =  3 /% of no transport =  100.0\n",
      "Walk size =  4 /% of no transport =  100.0\n",
      "Walk size =  5 /% of no transport =  87.66000000000001\n",
      "Walk size =  6 /% of no transport =  93.94500000000001\n",
      "Walk size =  7 /% of no transport =  76.415\n",
      "Walk size =  8 /% of no transport =  86.215\n",
      "Walk size =  9 /% of no transport =  67.39500000000001\n",
      "Walk size =  10 /% of no transport =  79.455\n",
      "Walk size =  11 /% of no transport =  59.555\n",
      "Walk size =  12 /% of no transport =  72.605\n",
      "Walk size =  13 /% of no transport =  53.81\n",
      "Walk size =  14 /% of no transport =  67.72\n",
      "Walk size =  15 /% of no transport =  49.2\n",
      "Walk size =  16 /% of no transport =  62.96000000000001\n",
      "Walk size =  17 /% of no transport =  44.795\n",
      "Walk size =  18 /% of no transport =  58.160000000000004\n",
      "Walk size =  19 /% of no transport =  40.135\n",
      "Walk size =  20 /% of no transport =  54.254999999999995\n",
      "Walk size =  21 /% of no transport =  37.66\n",
      "Walk size =  22 /% of no transport =  50.265\n",
      "Walk size =  23 /% of no transport =  35.66\n",
      "Walk size =  24 /% of no transport =  47.955\n",
      "Walk size =  25 /% of no transport =  33.455\n",
      "Walk size =  26 /% of no transport =  44.95\n",
      "Walk size =  27 /% of no transport =  31.145\n",
      "Walk size =  28 /% of no transport =  43.185\n",
      "Walk size =  29 /% of no transport =  29.21\n",
      "Walk size =  30 /% of no transport =  41.215\n"
     ]
    }
   ],
   "source": [
    "number_of_walks = 20000\n",
    "\n",
    "for walk_length in range(1,31):\n",
    "    no_transport = 0\n",
    "    \n",
    "    for i in range(number_of_walks):\n",
    "        (x,y) = random_walk_2(walk_length)\n",
    "        distance = abs(x)+abs(y)\n",
    "            \n",
    "        if distance <= 4:\n",
    "            no_transport +=1\n",
    "                \n",
    "    no_transport_percentage = float(no_transport)/number_of_walks\n",
    "    \n",
    "    print('Walk size = ', walk_length, '/% of no transport = ', 100*no_transport_percentage)"
   ]
  },
  {
   "cell_type": "code",
   "execution_count": null,
   "id": "f9b29cd2",
   "metadata": {},
   "outputs": [],
   "source": []
  }
 ],
 "metadata": {
  "kernelspec": {
   "display_name": "Python 3",
   "language": "python",
   "name": "python3"
  },
  "language_info": {
   "codemirror_mode": {
    "name": "ipython",
    "version": 3
   },
   "file_extension": ".py",
   "mimetype": "text/x-python",
   "name": "python",
   "nbconvert_exporter": "python",
   "pygments_lexer": "ipython3",
   "version": "3.8.8"
  }
 },
 "nbformat": 4,
 "nbformat_minor": 5
}
